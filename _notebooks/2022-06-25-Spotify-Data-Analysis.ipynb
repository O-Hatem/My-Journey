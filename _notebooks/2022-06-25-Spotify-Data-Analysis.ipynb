{
 "cells": [
  {
   "cell_type": "markdown",
   "id": "c02e8cb6",
   "metadata": {},
   "source": [
    "# Spotify in Egypt\n",
    "> data analysis for music in Egypt\n",
    "\n",
    "- toc: true\n",
    "- badges: true\n",
    "- comments: true\n",
    "- categories: [web scraping, API, data analysis]"
   ]
  },
  {
   "cell_type": "markdown",
   "id": "ece8bf6e",
   "metadata": {},
   "source": [
    "This is an attempt to study and analyze the music industry in Egypt for last 70 years. \n",
    "First I setup Spotify API to help me search and lookup the data for each song and for each artist. But, there's no telling (using the API) what are the most listened to artists in Egypt (whether they're Egyptian, Arabic, or not). So i looked up for a list includes such data and i found a [website](https://www.last.fm/tag/egyptian/artists?page=1) that have similar stats to what i want(not perfect though), and this was the best i could get browsing the web.\n",
    "\n",
    "Questions to be answered:\n",
    "1. what are the most listened to genres?"
   ]
  },
  {
   "cell_type": "code",
   "execution_count": 1,
   "id": "5542f28a",
   "metadata": {},
   "outputs": [],
   "source": [
    "import numpy as np\n",
    "import pandas as pd\n",
    "import matplotlib.pyplot as plt\n",
    "import seaborn as sns\n",
    "\n",
    "import requests\n",
    "import base64\n",
    "import datetime\n",
    "from urllib.parse import urlencode\n",
    "\n",
    "from bs4 import BeautifulSoup\n",
    "from time import sleep\n",
    "\n",
    "%matplotlib inline"
   ]
  },
  {
   "cell_type": "markdown",
   "id": "f82f64bb",
   "metadata": {},
   "source": [
    "## Retrieving Data from Spotify API"
   ]
  },
  {
   "cell_type": "markdown",
   "id": "6ac8b70d",
   "metadata": {},
   "source": [
    "client_id and client_secret are retrieved from the project created on [spotify developers website's dashboard](https://developer.spotify.com/dashboard/applications)"
   ]
  },
  {
   "cell_type": "code",
   "execution_count": 15,
   "id": "b4edd49f",
   "metadata": {},
   "outputs": [],
   "source": [
    "endpoint = \"https://api.spotify.com/v1\" \n",
    "\n",
    "client_id = \"CLIENT_ID\"\n",
    "client_secret = \"CLIENT_SECRET\""
   ]
  },
  {
   "cell_type": "code",
   "execution_count": 3,
   "id": "2f4a23c4",
   "metadata": {},
   "outputs": [],
   "source": [
    "token_url = \"https://accounts.spotify.com/api/token\"\n",
    "client_creds = f\"{client_id}:{client_secret}\"\n",
    "client_creds_b64 = base64.b64encode(client_creds.encode())\n",
    "\n",
    "token_data = {\n",
    "    \"grant_type\": \"client_credentials\"\n",
    "}\n",
    "\n",
    "token_headers = {\n",
    "    \"Authorization\": f\"Basic {client_creds_b64.decode()}\", # <base64 encoded client_id:client_secret>\n",
    "}"
   ]
  },
  {
   "cell_type": "markdown",
   "id": "869be1a1",
   "metadata": {},
   "source": [
    "extracting information from the response from the response"
   ]
  },
  {
   "cell_type": "code",
   "execution_count": 4,
   "id": "7b8c52b2",
   "metadata": {},
   "outputs": [],
   "source": [
    "r = requests.post(token_url, data=token_data, headers=token_headers)\n",
    "valid_request = r.status_code in range(200, 300)\n",
    "\n",
    "if valid_request:\n",
    "    token_response_data = r.json()\n",
    "    access_token = token_response_data['access_token']\n",
    "\n",
    "    now = datetime.datetime.now()\n",
    "    expire_in = token_response_data['expires_in'] # seconds\n",
    "    expires = now + datetime.timedelta(seconds=expire_in)\n",
    "    did_expire = expires < now"
   ]
  },
  {
   "cell_type": "code",
   "execution_count": 8,
   "id": "08f0a3c8",
   "metadata": {},
   "outputs": [
    {
     "name": "stdout",
     "output_type": "stream",
     "text": [
      "2022-06-18 19:54:47.124216\n"
     ]
    }
   ],
   "source": [
    "# it expires in an hour from now\n",
    "print(expires)"
   ]
  },
  {
   "cell_type": "markdown",
   "id": "2f4713ba",
   "metadata": {},
   "source": [
    "## Search for an item"
   ]
  },
  {
   "cell_type": "code",
   "execution_count": 12,
   "id": "b8190e59",
   "metadata": {},
   "outputs": [],
   "source": [
    "headers = {\n",
    "    \"Authorization\": f\"Bearer {access_token}\"\n",
    "}"
   ]
  },
  {
   "cell_type": "code",
   "execution_count": 20,
   "id": "ea19d86d",
   "metadata": {},
   "outputs": [],
   "source": [
    "def search_spotify(access_token, query, search_type):\n",
    "    search_endpoint = f\"{endpoint}/search\"\n",
    "    data = urlencode({\n",
    "        \"q\": query,\n",
    "        \"type\": search_type,\n",
    "    })\n",
    "    \n",
    "    lookup_url = f\"{search_endpoint}?{data}\"\n",
    "    \n",
    "    r = requests.get(lookup_url, headers=headers)\n",
    "    if r.status_code not in range(200, 300):\n",
    "        return {}\n",
    "    return r.json()"
   ]
  },
  {
   "cell_type": "markdown",
   "id": "7ba4e1b4",
   "metadata": {},
   "source": [
    "## Scraping Data out of Last.fm"
   ]
  },
  {
   "cell_type": "code",
   "execution_count": 115,
   "id": "8b661d73",
   "metadata": {},
   "outputs": [],
   "source": [
    "artists_names_array = []\n",
    "\n",
    "for page_number in range(1, 5):\n",
    "    # adding a small sleep before each request to prevent the ConnectionResetError104\n",
    "    sleep(1)\n",
    "    html = requests.get(f\"https://www.last.fm/tag/egyptian/artists?page={page_number}\")\n",
    "    soup = BeautifulSoup(html.content)\n",
    "\n",
    "    main_div = soup.find_all('div', class_=\"col-main\")[0]\n",
    "    artists = main_div.find_all('li', attrs={\"itemtype\":\"http://schema.org/MusicGroup\"})\n",
    "\n",
    "    for artist in artists:\n",
    "        artists_names_array.append(artist.h3.text)"
   ]
  },
  {
   "cell_type": "code",
   "execution_count": 116,
   "id": "a28741b1",
   "metadata": {},
   "outputs": [],
   "source": [
    "artists_names = pd.Series(data=artists_names_array, index=np.arange(0, len(artists_names_array)))"
   ]
  },
  {
   "cell_type": "code",
   "execution_count": 117,
   "id": "0863433f",
   "metadata": {},
   "outputs": [
    {
     "data": {
      "text/plain": [
       "0                 عمر دياب\n",
       "1             Karl Sanders\n",
       "2             Oum Kalthoum\n",
       "3                  Sherine\n",
       "4                    Hakim\n",
       "              ...         \n",
       "79                   شيرين\n",
       "80                Shahinaz\n",
       "81              Hathorious\n",
       "82         Hesham El Araby\n",
       "83    Mohamed Ali Ensemble\n",
       "Length: 84, dtype: object"
      ]
     },
     "execution_count": 117,
     "metadata": {},
     "output_type": "execute_result"
    }
   ],
   "source": [
    "artists_names"
   ]
  },
  {
   "cell_type": "markdown",
   "id": "c11815a6",
   "metadata": {},
   "source": [
    "### Translate Arabic names into English\n",
    "\n",
    "Using RapidAPI"
   ]
  },
  {
   "cell_type": "code",
   "execution_count": 125,
   "id": "cb6cb48d",
   "metadata": {},
   "outputs": [],
   "source": [
    "def translate(query, tl=\"en\", sl=\"ar\"):\n",
    "    url = \"https://google-translate1.p.rapidapi.com/language/translate/v2\"\n",
    "\n",
    "    payload = urlencode({\n",
    "        \"q\": query,\n",
    "        \"target\": tl,\n",
    "        \"source\": sl\n",
    "    })\n",
    "    \n",
    "    headers = {\n",
    "        \"content-type\": \"application/x-www-form-urlencoded\",\n",
    "        \"Accept-Encoding\": \"application/gzip\",\n",
    "        \"X-RapidAPI-Key\": \"API-KEY\",\n",
    "        \"X-RapidAPI-Host\": \"google-translate1.p.rapidapi.com\"\n",
    "    }\n",
    "\n",
    "    response = requests.post(url, data=payload, headers=headers)\n",
    "    if response.status_code not in range(200, 300):\n",
    "        print(response.status_code)\n",
    "        return {}\n",
    "    \n",
    "    return response.text"
   ]
  },
  {
   "cell_type": "code",
   "execution_count": 130,
   "id": "ed803ef2",
   "metadata": {},
   "outputs": [
    {
     "data": {
      "text/plain": [
       "0                 عمر دياب\n",
       "1             Karl Sanders\n",
       "2             Oum Kalthoum\n",
       "3                  Sherine\n",
       "4                    Hakim\n",
       "              ...         \n",
       "79                   شيرين\n",
       "80                Shahinaz\n",
       "81              Hathorious\n",
       "82         Hesham El Araby\n",
       "83    Mohamed Ali Ensemble\n",
       "Length: 84, dtype: object"
      ]
     },
     "execution_count": 130,
     "metadata": {},
     "output_type": "execute_result"
    }
   ],
   "source": [
    "artists_names"
   ]
  },
  {
   "cell_type": "code",
   "execution_count": 131,
   "id": "118c80a0",
   "metadata": {},
   "outputs": [
    {
     "data": {
      "text/plain": [
       "'{\"data\":{\"translations\":[{\"translatedText\":\"Shereen\"}]}}'"
      ]
     },
     "execution_count": 131,
     "metadata": {},
     "output_type": "execute_result"
    }
   ],
   "source": [
    "translate(artists_names[79])"
   ]
  },
  {
   "cell_type": "markdown",
   "id": "42b84b2e",
   "metadata": {},
   "source": [
    "### Drop Duplicates"
   ]
  },
  {
   "cell_type": "code",
   "execution_count": null,
   "id": "bdac656e",
   "metadata": {},
   "outputs": [],
   "source": []
  },
  {
   "cell_type": "markdown",
   "id": "6a0d027b",
   "metadata": {},
   "source": [
    "### Fix the inconsistency in the data\n",
    "e.g. Umm Kulthum, Oum Kalthoum\n",
    "[Kaggle's lessson on data inconsistency](https://www.kaggle.com/code/alexisbcook/inconsistent-data-entry)"
   ]
  },
  {
   "cell_type": "code",
   "execution_count": null,
   "id": "a96f3166",
   "metadata": {},
   "outputs": [],
   "source": []
  }
 ],
 "metadata": {
  "kernelspec": {
   "display_name": "Python 3 (ipykernel)",
   "language": "python",
   "name": "python3"
  },
  "language_info": {
   "codemirror_mode": {
    "name": "ipython",
    "version": 3
   },
   "file_extension": ".py",
   "mimetype": "text/x-python",
   "name": "python",
   "nbconvert_exporter": "python",
   "pygments_lexer": "ipython3",
   "version": "3.9.6"
  },
  "toc": {
   "base_numbering": 1,
   "nav_menu": {},
   "number_sections": false,
   "sideBar": true,
   "skip_h1_title": false,
   "title_cell": "Table of Contents",
   "title_sidebar": "Contents",
   "toc_cell": false,
   "toc_position": {
    "height": "calc(100% - 180px)",
    "left": "10px",
    "top": "150px",
    "width": "209.2px"
   },
   "toc_section_display": true,
   "toc_window_display": false
  }
 },
 "nbformat": 4,
 "nbformat_minor": 5
}
