{
 "cells": [
  {
   "cell_type": "code",
   "execution_count": 1,
   "id": "8a617c86",
   "metadata": {},
   "outputs": [],
   "source": [
    "import numpy as np\n",
    "import pandas as pd\n",
    "import matplotlib.pyplot as plt\n",
    "import seaborn as sns\n",
    "import requests\n",
    "import json\n",
    "\n",
    "%matplotlib inline"
   ]
  },
  {
   "cell_type": "code",
   "execution_count": 2,
   "id": "62711369",
   "metadata": {},
   "outputs": [],
   "source": [
    "# pandas' options\n",
    "pd.set_option('max_columns', None)"
   ]
  },
  {
   "cell_type": "markdown",
   "id": "c69ada25",
   "metadata": {},
   "source": [
    "**Challenge 1: can't open the JSON file correctly** [sol](https://towardsdatascience.com/how-to-convert-json-into-a-pandas-dataframe-100b2ae1e0d8)"
   ]
  },
  {
   "cell_type": "code",
   "execution_count": 3,
   "id": "eed89094",
   "metadata": {},
   "outputs": [],
   "source": [
    "with open('../data/movies.json','r') as f:\n",
    "    data = json.loads(f.read())\n",
    "\n",
    "# Flatten data\n",
    "movies = pd.json_normalize(data, record_path =['results'])"
   ]
  },
  {
   "cell_type": "code",
   "execution_count": 4,
   "id": "0e2814bc",
   "metadata": {},
   "outputs": [],
   "source": [
    "with open('../data/series.json', 'r') as f:\n",
    "    data = json.loads(f.read())\n",
    "\n",
    "series = pd.json_normalize(data, record_path=['results'])"
   ]
  },
  {
   "cell_type": "markdown",
   "id": "e9d61df0",
   "metadata": {},
   "source": [
    "# Data Preprocessing"
   ]
  },
  {
   "cell_type": "markdown",
   "id": "54f3a044",
   "metadata": {},
   "source": [
    "## Formatting Released Date"
   ]
  },
  {
   "cell_type": "markdown",
   "id": "fde9b230",
   "metadata": {},
   "source": [
    "### For series"
   ]
  },
  {
   "cell_type": "code",
   "execution_count": 5,
   "id": "28f4e10b",
   "metadata": {},
   "outputs": [],
   "source": [
    "series['description'] = series['description'].apply(lambda x: x.strip('()').split('–')[0])"
   ]
  },
  {
   "cell_type": "code",
   "execution_count": 6,
   "id": "c4176270",
   "metadata": {},
   "outputs": [
    {
     "data": {
      "text/plain": [
       "47      I) (2021\n",
       "110     I) (2021\n",
       "162             \n",
       "235    II) (2021\n",
       "240             \n",
       "Name: description, dtype: object"
      ]
     },
     "execution_count": 6,
     "metadata": {},
     "output_type": "execute_result"
    }
   ],
   "source": [
    "series[~series['description'].str.isnumeric()]['description']"
   ]
  },
  {
   "cell_type": "code",
   "execution_count": 7,
   "id": "f1a72561",
   "metadata": {},
   "outputs": [],
   "source": [
    "# changing some value by hand\n",
    "series.loc[47, 'description'] = '2021'\n",
    "series.loc[110, 'description'] = '2021'\n",
    "series.loc[235, 'description'] = '2021'"
   ]
  },
  {
   "cell_type": "code",
   "execution_count": 8,
   "id": "cf002cff",
   "metadata": {},
   "outputs": [
    {
     "data": {
      "text/plain": [
       "162    \n",
       "240    \n",
       "Name: description, dtype: object"
      ]
     },
     "execution_count": 8,
     "metadata": {},
     "output_type": "execute_result"
    }
   ],
   "source": [
    "series[~series['description'].str.isnumeric()]['description']"
   ]
  },
  {
   "cell_type": "code",
   "execution_count": 9,
   "id": "db480dc0",
   "metadata": {},
   "outputs": [],
   "source": [
    "# dropping non-existant values\n",
    "indexes = series[~series['description'].str.isnumeric()].index\n",
    "series.drop(indexes, axis=0, inplace=True)"
   ]
  },
  {
   "cell_type": "markdown",
   "id": "ee625081",
   "metadata": {},
   "source": [
    "### For movies"
   ]
  },
  {
   "cell_type": "code",
   "execution_count": 10,
   "id": "b947f85e",
   "metadata": {},
   "outputs": [],
   "source": [
    "movies['description'] = movies['description'].apply(lambda x: x.strip('()').split()[0])"
   ]
  },
  {
   "cell_type": "code",
   "execution_count": 11,
   "id": "1d5c7d7c",
   "metadata": {},
   "outputs": [
    {
     "data": {
      "text/plain": [
       "23    TV\n",
       "33    TV\n",
       "Name: description, dtype: object"
      ]
     },
     "execution_count": 11,
     "metadata": {},
     "output_type": "execute_result"
    }
   ],
   "source": [
    "movies[~movies['description'].str.isnumeric()]['description']"
   ]
  },
  {
   "cell_type": "code",
   "execution_count": 12,
   "id": "41849c65",
   "metadata": {},
   "outputs": [],
   "source": [
    "indexes = movies[~movies['description'].str.isnumeric()].index\n",
    "movies.drop(indexes, axis=0, inplace=True)"
   ]
  },
  {
   "cell_type": "code",
   "execution_count": 13,
   "id": "78d53a94",
   "metadata": {},
   "outputs": [
    {
     "data": {
      "text/plain": [
       "Series([], Name: description, dtype: object)"
      ]
     },
     "execution_count": 13,
     "metadata": {},
     "output_type": "execute_result"
    }
   ],
   "source": [
    "movies[~movies['description'].str.isnumeric()]['description']"
   ]
  },
  {
   "cell_type": "markdown",
   "id": "d013592a",
   "metadata": {},
   "source": [
    "## Adding type column"
   ]
  },
  {
   "cell_type": "code",
   "execution_count": 14,
   "id": "69332ceb",
   "metadata": {},
   "outputs": [],
   "source": [
    "movies['type'] = 'Movie'\n",
    "series['type'] = 'Series'"
   ]
  },
  {
   "cell_type": "markdown",
   "id": "169ae206",
   "metadata": {},
   "source": [
    "## Appending the two series"
   ]
  },
  {
   "cell_type": "code",
   "execution_count": 15,
   "id": "e9b01927",
   "metadata": {},
   "outputs": [],
   "source": [
    "works = series.append(movies, ignore_index=True)"
   ]
  },
  {
   "cell_type": "markdown",
   "id": "6f228e54",
   "metadata": {},
   "source": [
    "## Drop unnecessary columns"
   ]
  },
  {
   "cell_type": "code",
   "execution_count": 16,
   "id": "4a68daf7",
   "metadata": {},
   "outputs": [],
   "source": [
    "works.drop(['runtimeStr', 'contentRating', 'metacriticRating', 'plot', 'stars', 'starList'], axis=1, inplace=True)"
   ]
  },
  {
   "cell_type": "markdown",
   "id": "e2c08747",
   "metadata": {},
   "source": [
    "## Changing the numerical datatypes"
   ]
  },
  {
   "cell_type": "code",
   "execution_count": 17,
   "id": "523f2df7",
   "metadata": {},
   "outputs": [],
   "source": [
    "indexes = works[works['imDbRatingVotes'].isnull()].index\n",
    "works.loc[indexes, 'imDbRatingVotes'] = 0"
   ]
  },
  {
   "cell_type": "code",
   "execution_count": 18,
   "id": "f338977e",
   "metadata": {},
   "outputs": [],
   "source": [
    "works['imDbRatingVotes'] = works['imDbRatingVotes'].astype('int')\n",
    "works['imDbRating'] = works['imDbRating'].astype('float')\n",
    "works['description'] = works['description'].astype('int')"
   ]
  },
  {
   "cell_type": "markdown",
   "id": "8dc46d19",
   "metadata": {},
   "source": [
    "## Separate the genres"
   ]
  },
  {
   "cell_type": "markdown",
   "id": "168fad7a",
   "metadata": {},
   "source": [
    "**Challenge 2: can't separate the genres.** [sol](https://www.geeksforgeeks.org/python-convert-a-string-representation-of-list-into-list/)"
   ]
  },
  {
   "cell_type": "code",
   "execution_count": 19,
   "id": "1cff04fb",
   "metadata": {},
   "outputs": [
    {
     "data": {
      "text/html": [
       "<div>\n",
       "<style scoped>\n",
       "    .dataframe tbody tr th:only-of-type {\n",
       "        vertical-align: middle;\n",
       "    }\n",
       "\n",
       "    .dataframe tbody tr th {\n",
       "        vertical-align: top;\n",
       "    }\n",
       "\n",
       "    .dataframe thead th {\n",
       "        text-align: right;\n",
       "    }\n",
       "</style>\n",
       "<table border=\"1\" class=\"dataframe\">\n",
       "  <thead>\n",
       "    <tr style=\"text-align: right;\">\n",
       "      <th></th>\n",
       "      <th>id</th>\n",
       "      <th>image</th>\n",
       "      <th>title</th>\n",
       "      <th>description</th>\n",
       "      <th>genres</th>\n",
       "      <th>genreList</th>\n",
       "      <th>imDbRating</th>\n",
       "      <th>imDbRatingVotes</th>\n",
       "      <th>type</th>\n",
       "    </tr>\n",
       "  </thead>\n",
       "  <tbody>\n",
       "    <tr>\n",
       "      <th>282</th>\n",
       "      <td>tt3253984</td>\n",
       "      <td>https://imdb-api.com/images/original/nopicture...</td>\n",
       "      <td>Howa Al Naharda Aih</td>\n",
       "      <td>2007</td>\n",
       "      <td>None</td>\n",
       "      <td>None</td>\n",
       "      <td>NaN</td>\n",
       "      <td>0</td>\n",
       "      <td>Movie</td>\n",
       "    </tr>\n",
       "    <tr>\n",
       "      <th>289</th>\n",
       "      <td>tt3254058</td>\n",
       "      <td>https://imdb-api.com/images/original/nopicture...</td>\n",
       "      <td>Tarh El Sabbar</td>\n",
       "      <td>2006</td>\n",
       "      <td>None</td>\n",
       "      <td>None</td>\n",
       "      <td>NaN</td>\n",
       "      <td>0</td>\n",
       "      <td>Movie</td>\n",
       "    </tr>\n",
       "  </tbody>\n",
       "</table>\n",
       "</div>"
      ],
      "text/plain": [
       "            id                                              image  \\\n",
       "282  tt3253984  https://imdb-api.com/images/original/nopicture...   \n",
       "289  tt3254058  https://imdb-api.com/images/original/nopicture...   \n",
       "\n",
       "                   title  description genres genreList  imDbRating  \\\n",
       "282  Howa Al Naharda Aih         2007   None      None         NaN   \n",
       "289       Tarh El Sabbar         2006   None      None         NaN   \n",
       "\n",
       "     imDbRatingVotes   type  \n",
       "282                0  Movie  \n",
       "289                0  Movie  "
      ]
     },
     "execution_count": 19,
     "metadata": {},
     "output_type": "execute_result"
    }
   ],
   "source": [
    "# works that doesn't have any genres\n",
    "works[works['genres'].isnull()]"
   ]
  },
  {
   "cell_type": "code",
   "execution_count": 20,
   "id": "e7ac78fb",
   "metadata": {},
   "outputs": [],
   "source": [
    "# remove the 3 instance where it has no genres\n",
    "indexes = works[works['genres'].isnull()].index\n",
    "works.drop(indexes, inplace=True)\n",
    "works.reset_index(drop=True, inplace=True)"
   ]
  },
  {
   "cell_type": "code",
   "execution_count": 21,
   "id": "5ed3008d",
   "metadata": {},
   "outputs": [],
   "source": [
    "works['no_of_genres'] = works['genres'].apply(lambda x: len(x.split(', ')))"
   ]
  },
  {
   "cell_type": "code",
   "execution_count": 22,
   "id": "57b44793",
   "metadata": {},
   "outputs": [
    {
     "data": {
      "text/plain": [
       "3"
      ]
     },
     "execution_count": 22,
     "metadata": {},
     "output_type": "execute_result"
    }
   ],
   "source": [
    "# the max number of genres that a individual movie has\n",
    "np.max(works['no_of_genres'])"
   ]
  },
  {
   "cell_type": "code",
   "execution_count": 23,
   "id": "2e116872",
   "metadata": {},
   "outputs": [
    {
     "data": {
      "text/plain": [
       "Drama          82\n",
       "Comedy         41\n",
       "Action          8\n",
       "Documentary     8\n",
       "Thriller        7\n",
       "Musical         3\n",
       "Talk-Show       2\n",
       "Crime           2\n",
       "Romance         2\n",
       "Horror          2\n",
       "History         2\n",
       "Mystery         2\n",
       "Fantasy         1\n",
       "Animation       1\n",
       "Adventure       1\n",
       "Biography       1\n",
       "Music           1\n",
       "Name: genres, dtype: int64"
      ]
     },
     "execution_count": 23,
     "metadata": {},
     "output_type": "execute_result"
    }
   ],
   "source": [
    "# what are the distinct genres with the rows that has one genre\n",
    "works['genres'][works['no_of_genres'] == 1].value_counts()"
   ]
  },
  {
   "cell_type": "code",
   "execution_count": 24,
   "id": "b31c239b",
   "metadata": {},
   "outputs": [
    {
     "name": "stdout",
     "output_type": "stream",
     "text": [
      "['Drama', 'Fantasy', 'Horror', 'Comedy', 'Romance', 'Action', 'Biography', 'Thriller', 'History', 'War', 'Mystery', 'Adventure', 'Crime', 'Sci-Fi', 'Family', 'Music', 'Musical', 'Talk-Show', 'Reality-TV', 'Animation', 'Short', 'Documentary']\n"
     ]
    }
   ],
   "source": [
    "# get all the unique genres\n",
    "unique_genres = []\n",
    "for genre_list in works['genres'].str.strip('][').str.split(', '):\n",
    "    for genre in genre_list:\n",
    "        if genre not in unique_genres:\n",
    "            unique_genres.append(genre)\n",
    "            \n",
    "print(unique_genres)"
   ]
  },
  {
   "cell_type": "code",
   "execution_count": 25,
   "id": "b0adb179",
   "metadata": {},
   "outputs": [
    {
     "data": {
      "text/plain": [
       "22"
      ]
     },
     "execution_count": 25,
     "metadata": {},
     "output_type": "execute_result"
    }
   ],
   "source": [
    "# there are 22 unique genres\n",
    "len(unique_genres)"
   ]
  },
  {
   "cell_type": "code",
   "execution_count": 26,
   "id": "8baa6f00",
   "metadata": {},
   "outputs": [
    {
     "data": {
      "text/plain": [
       "(297, 10)"
      ]
     },
     "execution_count": 26,
     "metadata": {},
     "output_type": "execute_result"
    }
   ],
   "source": [
    "works.shape"
   ]
  },
  {
   "cell_type": "code",
   "execution_count": 27,
   "id": "28f5af4d",
   "metadata": {},
   "outputs": [],
   "source": [
    "# create 22 different columns representing the different genres\n",
    "for unique_genre in unique_genres:\n",
    "    works[unique_genre] = 0"
   ]
  },
  {
   "cell_type": "code",
   "execution_count": 28,
   "id": "5fe6def5",
   "metadata": {},
   "outputs": [
    {
     "data": {
      "text/plain": [
       "(297, 32)"
      ]
     },
     "execution_count": 28,
     "metadata": {},
     "output_type": "execute_result"
    }
   ],
   "source": [
    "works.shape"
   ]
  },
  {
   "cell_type": "code",
   "execution_count": 29,
   "id": "be19e711",
   "metadata": {},
   "outputs": [],
   "source": [
    "# changing the value of the corresponding genre into 1\n",
    "for index, genre_list in enumerate(works['genres'].str.strip('][').str.split(', ')):\n",
    "    for genre in genre_list:\n",
    "        works.loc[index, genre] = 1"
   ]
  },
  {
   "cell_type": "code",
   "execution_count": 30,
   "id": "ed09bef6",
   "metadata": {},
   "outputs": [
    {
     "data": {
      "text/html": [
       "<div>\n",
       "<style scoped>\n",
       "    .dataframe tbody tr th:only-of-type {\n",
       "        vertical-align: middle;\n",
       "    }\n",
       "\n",
       "    .dataframe tbody tr th {\n",
       "        vertical-align: top;\n",
       "    }\n",
       "\n",
       "    .dataframe thead th {\n",
       "        text-align: right;\n",
       "    }\n",
       "</style>\n",
       "<table border=\"1\" class=\"dataframe\">\n",
       "  <thead>\n",
       "    <tr style=\"text-align: right;\">\n",
       "      <th></th>\n",
       "      <th>id</th>\n",
       "      <th>image</th>\n",
       "      <th>title</th>\n",
       "      <th>description</th>\n",
       "      <th>genres</th>\n",
       "      <th>genreList</th>\n",
       "      <th>imDbRating</th>\n",
       "      <th>imDbRatingVotes</th>\n",
       "      <th>type</th>\n",
       "      <th>no_of_genres</th>\n",
       "      <th>Drama</th>\n",
       "      <th>Fantasy</th>\n",
       "      <th>Horror</th>\n",
       "      <th>Comedy</th>\n",
       "      <th>Romance</th>\n",
       "      <th>Action</th>\n",
       "      <th>Biography</th>\n",
       "      <th>Thriller</th>\n",
       "      <th>History</th>\n",
       "      <th>War</th>\n",
       "      <th>Mystery</th>\n",
       "      <th>Adventure</th>\n",
       "      <th>Crime</th>\n",
       "      <th>Sci-Fi</th>\n",
       "      <th>Family</th>\n",
       "      <th>Music</th>\n",
       "      <th>Musical</th>\n",
       "      <th>Talk-Show</th>\n",
       "      <th>Reality-TV</th>\n",
       "      <th>Animation</th>\n",
       "      <th>Short</th>\n",
       "      <th>Documentary</th>\n",
       "    </tr>\n",
       "  </thead>\n",
       "  <tbody>\n",
       "    <tr>\n",
       "      <th>0</th>\n",
       "      <td>tt19495202</td>\n",
       "      <td>https://imdb-api.com/images/original/MV5BNDNjN...</td>\n",
       "      <td>Suits</td>\n",
       "      <td>2022</td>\n",
       "      <td>Drama</td>\n",
       "      <td>[{'key': 'Drama', 'value': 'Drama'}]</td>\n",
       "      <td>7.4</td>\n",
       "      <td>179</td>\n",
       "      <td>Series</td>\n",
       "      <td>1</td>\n",
       "      <td>1</td>\n",
       "      <td>0</td>\n",
       "      <td>0</td>\n",
       "      <td>0</td>\n",
       "      <td>0</td>\n",
       "      <td>0</td>\n",
       "      <td>0</td>\n",
       "      <td>0</td>\n",
       "      <td>0</td>\n",
       "      <td>0</td>\n",
       "      <td>0</td>\n",
       "      <td>0</td>\n",
       "      <td>0</td>\n",
       "      <td>0</td>\n",
       "      <td>0</td>\n",
       "      <td>0</td>\n",
       "      <td>0</td>\n",
       "      <td>0</td>\n",
       "      <td>0</td>\n",
       "      <td>0</td>\n",
       "      <td>0</td>\n",
       "      <td>0</td>\n",
       "    </tr>\n",
       "    <tr>\n",
       "      <th>1</th>\n",
       "      <td>tt12411074</td>\n",
       "      <td>https://imdb-api.com/images/original/MV5BNGY1Y...</td>\n",
       "      <td>Paranormal</td>\n",
       "      <td>2020</td>\n",
       "      <td>Drama, Fantasy, Horror</td>\n",
       "      <td>[{'key': 'Drama', 'value': 'Drama'}, {'key': '...</td>\n",
       "      <td>8.0</td>\n",
       "      <td>71528</td>\n",
       "      <td>Series</td>\n",
       "      <td>3</td>\n",
       "      <td>1</td>\n",
       "      <td>1</td>\n",
       "      <td>1</td>\n",
       "      <td>0</td>\n",
       "      <td>0</td>\n",
       "      <td>0</td>\n",
       "      <td>0</td>\n",
       "      <td>0</td>\n",
       "      <td>0</td>\n",
       "      <td>0</td>\n",
       "      <td>0</td>\n",
       "      <td>0</td>\n",
       "      <td>0</td>\n",
       "      <td>0</td>\n",
       "      <td>0</td>\n",
       "      <td>0</td>\n",
       "      <td>0</td>\n",
       "      <td>0</td>\n",
       "      <td>0</td>\n",
       "      <td>0</td>\n",
       "      <td>0</td>\n",
       "      <td>0</td>\n",
       "    </tr>\n",
       "  </tbody>\n",
       "</table>\n",
       "</div>"
      ],
      "text/plain": [
       "           id                                              image       title  \\\n",
       "0  tt19495202  https://imdb-api.com/images/original/MV5BNDNjN...       Suits   \n",
       "1  tt12411074  https://imdb-api.com/images/original/MV5BNGY1Y...  Paranormal   \n",
       "\n",
       "   description                  genres  \\\n",
       "0         2022                   Drama   \n",
       "1         2020  Drama, Fantasy, Horror   \n",
       "\n",
       "                                           genreList  imDbRating  \\\n",
       "0               [{'key': 'Drama', 'value': 'Drama'}]         7.4   \n",
       "1  [{'key': 'Drama', 'value': 'Drama'}, {'key': '...         8.0   \n",
       "\n",
       "   imDbRatingVotes    type  no_of_genres  Drama  Fantasy  Horror  Comedy  \\\n",
       "0              179  Series             1      1        0       0       0   \n",
       "1            71528  Series             3      1        1       1       0   \n",
       "\n",
       "   Romance  Action  Biography  Thriller  History  War  Mystery  Adventure  \\\n",
       "0        0       0          0         0        0    0        0          0   \n",
       "1        0       0          0         0        0    0        0          0   \n",
       "\n",
       "   Crime  Sci-Fi  Family  Music  Musical  Talk-Show  Reality-TV  Animation  \\\n",
       "0      0       0       0      0        0          0           0          0   \n",
       "1      0       0       0      0        0          0           0          0   \n",
       "\n",
       "   Short  Documentary  \n",
       "0      0            0  \n",
       "1      0            0  "
      ]
     },
     "execution_count": 30,
     "metadata": {},
     "output_type": "execute_result"
    }
   ],
   "source": [
    "works.head(2)"
   ]
  },
  {
   "cell_type": "code",
   "execution_count": 31,
   "id": "4756e7d7",
   "metadata": {},
   "outputs": [],
   "source": [
    "# removing the genres and genreList columns\n",
    "works.drop(['genres', 'genreList'], axis=1, inplace=True)"
   ]
  },
  {
   "cell_type": "markdown",
   "id": "506b7ae2",
   "metadata": {},
   "source": [
    "# Answering Questions"
   ]
  },
  {
   "cell_type": "markdown",
   "id": "2adf0f1a",
   "metadata": {},
   "source": [
    "## Q1) how many works/series have been made in each genre?"
   ]
  },
  {
   "cell_type": "code",
   "execution_count": 32,
   "id": "d0f3dc66",
   "metadata": {},
   "outputs": [],
   "source": [
    "summations = []\n",
    "for genre in unique_genres:\n",
    "    summations.append(np.sum(works[genre]))\n",
    "\n",
    "no_works_in_genre = pd.Series(summations, index=unique_genres).sort_values(ascending=False)"
   ]
  },
  {
   "cell_type": "code",
   "execution_count": 33,
   "id": "bcee48af",
   "metadata": {},
   "outputs": [
    {
     "data": {
      "image/png": "[encoded data removed]",
      "text/plain": [
       "<Figure size 720x432 with 1 Axes>"
      ]
     },
     "metadata": {
      "needs_background": "light"
     },
     "output_type": "display_data"
    }
   ],
   "source": [
    "plt.figure(figsize=(10, 6))\n",
    "sns.barplot(x=no_works_in_genre.index, y=no_works_in_genre.values)\n",
    "plt.xticks(rotation=90)\n",
    "plt.xlabel('Genres')\n",
    "plt.ylabel('Number of Works');"
   ]
  },
  {
   "cell_type": "markdown",
   "id": "bd32f9f7",
   "metadata": {},
   "source": [
    "## Q2) How many works have been made each year?"
   ]
  },
  {
   "cell_type": "code",
   "execution_count": 34,
   "id": "316924dc",
   "metadata": {},
   "outputs": [
    {
     "data": {
      "image/png": "[encoded data removed]",
      "text/plain": [
       "<Figure size 720x432 with 1 Axes>"
      ]
     },
     "metadata": {
      "needs_background": "light"
     },
     "output_type": "display_data"
    }
   ],
   "source": [
    "works_per_year = works[['id', 'description']].groupby(by='description', as_index=False).count()\n",
    "plt.figure(figsize=(10, 6))\n",
    "sns.barplot(x='description', y='id', data=works_per_year)\n",
    "plt.xticks(rotation=90)\n",
    "plt.xlabel('Year')\n",
    "plt.ylabel('Number of works');"
   ]
  },
  {
   "cell_type": "markdown",
   "id": "d7fe245b",
   "metadata": {},
   "source": [
    "## Q3) What is the average rating for movies and series?"
   ]
  },
  {
   "cell_type": "code",
   "execution_count": 35,
   "id": "7c1d4f53",
   "metadata": {},
   "outputs": [
    {
     "data": {
      "text/plain": [
       "10"
      ]
     },
     "execution_count": 35,
     "metadata": {},
     "output_type": "execute_result"
    },
    {
     "data": {
      "text/plain": [
       "34"
      ]
     },
     "execution_count": 35,
     "metadata": {},
     "output_type": "execute_result"
    }
   ],
   "source": [
    "# the number of missing ratings\n",
    "series['imDbRating'].isnull().sum()\n",
    "movies['imDbRating'].isnull().sum()"
   ]
  },
  {
   "cell_type": "code",
   "execution_count": 36,
   "id": "ed8729c9",
   "metadata": {},
   "outputs": [
    {
     "data": {
      "text/plain": [
       "6.7176470588235295"
      ]
     },
     "execution_count": 36,
     "metadata": {},
     "output_type": "execute_result"
    },
    {
     "data": {
      "text/plain": [
       "6.726050420168067"
      ]
     },
     "execution_count": 36,
     "metadata": {},
     "output_type": "execute_result"
    },
    {
     "data": {
      "text/plain": [
       "6.725490196078432"
      ]
     },
     "execution_count": 36,
     "metadata": {},
     "output_type": "execute_result"
    }
   ],
   "source": [
    "works[works['type'] == 'Movie']['imDbRating'].mean()\n",
    "works[works['type'] == 'Series']['imDbRating'].mean()\n",
    "works['imDbRating'].mean()"
   ]
  }
 ],
 "metadata": {
  "kernelspec": {
   "display_name": "Python 3 (ipykernel)",
   "language": "python",
   "name": "python3"
  },
  "language_info": {
   "codemirror_mode": {
    "name": "ipython",
    "version": 3
   },
   "file_extension": ".py",
   "mimetype": "text/x-python",
   "name": "python",
   "nbconvert_exporter": "python",
   "pygments_lexer": "ipython3",
   "version": "3.9.6"
  },
  "toc": {
   "base_numbering": 1,
   "nav_menu": {},
   "number_sections": false,
   "sideBar": true,
   "skip_h1_title": false,
   "title_cell": "Table of Contents",
   "title_sidebar": "Contents",
   "toc_cell": false,
   "toc_position": {
    "height": "calc(100% - 180px)",
    "left": "10px",
    "top": "150px",
    "width": "173.2px"
   },
   "toc_section_display": true,
   "toc_window_display": true
  }
 },
 "nbformat": 4,
 "nbformat_minor": 5
}
